{
 "cells": [
  {
   "cell_type": "markdown",
   "metadata": {},
   "source": [
    "##  <u>Lab 4 : Group 20</u>\n",
    "\n",
    "\n",
    "**Overall Objective**: Create a model that predicts rent prices as well as possible for typical New York City apartments."
   ]
  },
  {
   "cell_type": "markdown",
   "metadata": {},
   "source": [
    "### Part 0\n",
    "\n",
    "\n",
    " - **<u>Group Number:</u>** 20\n",
    " - **<u>Group Members:</u>**<br>\n",
    " Pallavi Ravikumar Menon<br>\n",
    " Akshara Santhosh\n",
    "\n",
    "     "
   ]
  },
  {
   "cell_type": "markdown",
   "metadata": {},
   "source": [
    "### Part 1 - Create and evaluate an initial model\n",
    "\n"
   ]
  },
  {
   "cell_type": "markdown",
   "metadata": {},
   "source": [
    "#### 1. A peek into the data"
   ]
  },
  {
   "cell_type": "code",
   "execution_count": 1,
   "metadata": {},
   "outputs": [],
   "source": [
    "##importing libraries\n",
    "import pandas as pd\n",
    "import numpy as np\n",
    "from sklearn.model_selection import train_test_split\n",
    "from sklearn.ensemble import RandomForestRegressor\n",
    "from sklearn.metrics import mean_absolute_error, r2_score"
   ]
  },
  {
   "cell_type": "code",
   "execution_count": 2,
   "metadata": {},
   "outputs": [
    {
     "data": {
      "text/html": [
       "<div>\n",
       "<style scoped>\n",
       "    .dataframe tbody tr th:only-of-type {\n",
       "        vertical-align: middle;\n",
       "    }\n",
       "\n",
       "    .dataframe tbody tr th {\n",
       "        vertical-align: top;\n",
       "    }\n",
       "\n",
       "    .dataframe thead th {\n",
       "        text-align: right;\n",
       "    }\n",
       "</style>\n",
       "<table border=\"1\" class=\"dataframe\">\n",
       "  <thead>\n",
       "    <tr style=\"text-align: right;\">\n",
       "      <th></th>\n",
       "      <th>0</th>\n",
       "      <th>1</th>\n",
       "      <th>2</th>\n",
       "      <th>3</th>\n",
       "      <th>4</th>\n",
       "    </tr>\n",
       "  </thead>\n",
       "  <tbody>\n",
       "    <tr>\n",
       "      <th>bathrooms</th>\n",
       "      <td>1.0</td>\n",
       "      <td>1.0</td>\n",
       "      <td>1.0</td>\n",
       "      <td>1.0</td>\n",
       "      <td>1.0</td>\n",
       "    </tr>\n",
       "    <tr>\n",
       "      <th>bedrooms</th>\n",
       "      <td>2</td>\n",
       "      <td>2</td>\n",
       "      <td>1</td>\n",
       "      <td>3</td>\n",
       "      <td>2</td>\n",
       "    </tr>\n",
       "    <tr>\n",
       "      <th>building_id</th>\n",
       "      <td>0</td>\n",
       "      <td>3cc586423f9e977a0f991b010242baa6</td>\n",
       "      <td>cd759a988b8f23924b5a2058d5ab2b49</td>\n",
       "      <td>250ae11aef7ca5668ea55763085d3ff8</td>\n",
       "      <td>ec1fe7f38e244003ea14df8d2677aa87</td>\n",
       "    </tr>\n",
       "    <tr>\n",
       "      <th>created</th>\n",
       "      <td>21-06-2016 07:29</td>\n",
       "      <td>22-06-2016 06:44</td>\n",
       "      <td>04-05-2016 02:26</td>\n",
       "      <td>29-06-2016 04:31</td>\n",
       "      <td>30-04-2016 02:23</td>\n",
       "    </tr>\n",
       "    <tr>\n",
       "      <th>description</th>\n",
       "      <td>Makr this stunning place your new home!- 2 bed...</td>\n",
       "      <td>Amazing location!Hardwood floors marble bath g...</td>\n",
       "      <td>DON'T MISS OUT !!! ONE IN A KIND GORGEOUS, HUG...</td>\n",
       "      <td>Not the prettiest, but large, bright and cheap...</td>\n",
       "      <td>BRIGHT &amp; SUNNNY 2BR/1BA IN PRIME SUNNYSIDE LOC...</td>\n",
       "    </tr>\n",
       "    <tr>\n",
       "      <th>display_address</th>\n",
       "      <td>New Lots</td>\n",
       "      <td>Bleecker Street</td>\n",
       "      <td>E 56 St.</td>\n",
       "      <td>E 69 Street</td>\n",
       "      <td>46th Street</td>\n",
       "    </tr>\n",
       "    <tr>\n",
       "      <th>features</th>\n",
       "      <td>['Pre-War', 'Hardwood Floors']</td>\n",
       "      <td>['Elevator', 'Laundry in Building', 'Dishwashe...</td>\n",
       "      <td>['Doorman', 'Elevator', 'Laundry in Building',...</td>\n",
       "      <td>[]</td>\n",
       "      <td>['Dogs Allowed', 'Cats Allowed']</td>\n",
       "    </tr>\n",
       "    <tr>\n",
       "      <th>latitude</th>\n",
       "      <td>40.6678</td>\n",
       "      <td>40.7285</td>\n",
       "      <td>40.7575</td>\n",
       "      <td>40.7657</td>\n",
       "      <td>40.7379</td>\n",
       "    </tr>\n",
       "    <tr>\n",
       "      <th>longitude</th>\n",
       "      <td>-73.8788</td>\n",
       "      <td>-74.0</td>\n",
       "      <td>-73.9626</td>\n",
       "      <td>-73.9572</td>\n",
       "      <td>-73.9196</td>\n",
       "    </tr>\n",
       "    <tr>\n",
       "      <th>manager_id</th>\n",
       "      <td>17dd8baf35198562ff9524b486f1754a</td>\n",
       "      <td>1fb46c4a72bcf764ac35fc23f394760d</td>\n",
       "      <td>f52612ad89c61a21e84172f0af0d4436</td>\n",
       "      <td>ac888923cda3b9e4f0311267be25de9c</td>\n",
       "      <td>f2a70ad9a85be944fbe2ca18e9b323cd</td>\n",
       "    </tr>\n",
       "    <tr>\n",
       "      <th>photos</th>\n",
       "      <td>['https://photos.renthop.com/2/7194943_5fafcb8...</td>\n",
       "      <td>['https://photos.renthop.com/2/7201657_9fe4dcc...</td>\n",
       "      <td>['https://photos.renthop.com/2/6962322_dc4fbd1...</td>\n",
       "      <td>['https://photos.renthop.com/2/7231045_6bdf593...</td>\n",
       "      <td>['https://photos.renthop.com/2/6945125_02ed49c...</td>\n",
       "    </tr>\n",
       "    <tr>\n",
       "      <th>price</th>\n",
       "      <td>1475</td>\n",
       "      <td>3800</td>\n",
       "      <td>2850</td>\n",
       "      <td>3600</td>\n",
       "      <td>1995</td>\n",
       "    </tr>\n",
       "    <tr>\n",
       "      <th>street_address</th>\n",
       "      <td>864 New Lots</td>\n",
       "      <td>160 Bleecker Street</td>\n",
       "      <td>405 E 56 St.</td>\n",
       "      <td>402 E 69 Street</td>\n",
       "      <td>48-45 46th Street</td>\n",
       "    </tr>\n",
       "    <tr>\n",
       "      <th>interest_level</th>\n",
       "      <td>high</td>\n",
       "      <td>high</td>\n",
       "      <td>low</td>\n",
       "      <td>low</td>\n",
       "      <td>high</td>\n",
       "    </tr>\n",
       "    <tr>\n",
       "      <th>num_desc_words</th>\n",
       "      <td>41</td>\n",
       "      <td>46</td>\n",
       "      <td>119</td>\n",
       "      <td>61</td>\n",
       "      <td>157</td>\n",
       "    </tr>\n",
       "  </tbody>\n",
       "</table>\n",
       "</div>"
      ],
      "text/plain": [
       "                                                                 0  \\\n",
       "bathrooms                                                      1.0   \n",
       "bedrooms                                                         2   \n",
       "building_id                                                      0   \n",
       "created                                           21-06-2016 07:29   \n",
       "description      Makr this stunning place your new home!- 2 bed...   \n",
       "display_address                                           New Lots   \n",
       "features                            ['Pre-War', 'Hardwood Floors']   \n",
       "latitude                                                   40.6678   \n",
       "longitude                                                 -73.8788   \n",
       "manager_id                        17dd8baf35198562ff9524b486f1754a   \n",
       "photos           ['https://photos.renthop.com/2/7194943_5fafcb8...   \n",
       "price                                                         1475   \n",
       "street_address                                        864 New Lots   \n",
       "interest_level                                                high   \n",
       "num_desc_words                                                  41   \n",
       "\n",
       "                                                                 1  \\\n",
       "bathrooms                                                      1.0   \n",
       "bedrooms                                                         2   \n",
       "building_id                       3cc586423f9e977a0f991b010242baa6   \n",
       "created                                           22-06-2016 06:44   \n",
       "description      Amazing location!Hardwood floors marble bath g...   \n",
       "display_address                                    Bleecker Street   \n",
       "features         ['Elevator', 'Laundry in Building', 'Dishwashe...   \n",
       "latitude                                                   40.7285   \n",
       "longitude                                                    -74.0   \n",
       "manager_id                        1fb46c4a72bcf764ac35fc23f394760d   \n",
       "photos           ['https://photos.renthop.com/2/7201657_9fe4dcc...   \n",
       "price                                                         3800   \n",
       "street_address                                 160 Bleecker Street   \n",
       "interest_level                                                high   \n",
       "num_desc_words                                                  46   \n",
       "\n",
       "                                                                 2  \\\n",
       "bathrooms                                                      1.0   \n",
       "bedrooms                                                         1   \n",
       "building_id                       cd759a988b8f23924b5a2058d5ab2b49   \n",
       "created                                           04-05-2016 02:26   \n",
       "description      DON'T MISS OUT !!! ONE IN A KIND GORGEOUS, HUG...   \n",
       "display_address                                           E 56 St.   \n",
       "features         ['Doorman', 'Elevator', 'Laundry in Building',...   \n",
       "latitude                                                   40.7575   \n",
       "longitude                                                 -73.9626   \n",
       "manager_id                        f52612ad89c61a21e84172f0af0d4436   \n",
       "photos           ['https://photos.renthop.com/2/6962322_dc4fbd1...   \n",
       "price                                                         2850   \n",
       "street_address                                        405 E 56 St.   \n",
       "interest_level                                                 low   \n",
       "num_desc_words                                                 119   \n",
       "\n",
       "                                                                 3  \\\n",
       "bathrooms                                                      1.0   \n",
       "bedrooms                                                         3   \n",
       "building_id                       250ae11aef7ca5668ea55763085d3ff8   \n",
       "created                                           29-06-2016 04:31   \n",
       "description      Not the prettiest, but large, bright and cheap...   \n",
       "display_address                                        E 69 Street   \n",
       "features                                                        []   \n",
       "latitude                                                   40.7657   \n",
       "longitude                                                 -73.9572   \n",
       "manager_id                        ac888923cda3b9e4f0311267be25de9c   \n",
       "photos           ['https://photos.renthop.com/2/7231045_6bdf593...   \n",
       "price                                                         3600   \n",
       "street_address                                     402 E 69 Street   \n",
       "interest_level                                                 low   \n",
       "num_desc_words                                                  61   \n",
       "\n",
       "                                                                 4  \n",
       "bathrooms                                                      1.0  \n",
       "bedrooms                                                         2  \n",
       "building_id                       ec1fe7f38e244003ea14df8d2677aa87  \n",
       "created                                           30-04-2016 02:23  \n",
       "description      BRIGHT & SUNNNY 2BR/1BA IN PRIME SUNNYSIDE LOC...  \n",
       "display_address                                        46th Street  \n",
       "features                          ['Dogs Allowed', 'Cats Allowed']  \n",
       "latitude                                                   40.7379  \n",
       "longitude                                                 -73.9196  \n",
       "manager_id                        f2a70ad9a85be944fbe2ca18e9b323cd  \n",
       "photos           ['https://photos.renthop.com/2/6945125_02ed49c...  \n",
       "price                                                         1995  \n",
       "street_address                                   48-45 46th Street  \n",
       "interest_level                                                high  \n",
       "num_desc_words                                                 157  "
      ]
     },
     "execution_count": 2,
     "metadata": {},
     "output_type": "execute_result"
    }
   ],
   "source": [
    "#reading the data\n",
    "df = pd.read_csv(\"C:/Users/User/Desktop/ML/rent.csv\")\n",
    "df.head().T"
   ]
  },
  {
   "cell_type": "code",
   "execution_count": 3,
   "metadata": {},
   "outputs": [
    {
     "data": {
      "text/html": [
       "<div>\n",
       "<style scoped>\n",
       "    .dataframe tbody tr th:only-of-type {\n",
       "        vertical-align: middle;\n",
       "    }\n",
       "\n",
       "    .dataframe tbody tr th {\n",
       "        vertical-align: top;\n",
       "    }\n",
       "\n",
       "    .dataframe thead th {\n",
       "        text-align: right;\n",
       "    }\n",
       "</style>\n",
       "<table border=\"1\" class=\"dataframe\">\n",
       "  <thead>\n",
       "    <tr style=\"text-align: right;\">\n",
       "      <th></th>\n",
       "      <th>0</th>\n",
       "      <th>1</th>\n",
       "      <th>2</th>\n",
       "      <th>3</th>\n",
       "      <th>4</th>\n",
       "    </tr>\n",
       "  </thead>\n",
       "  <tbody>\n",
       "    <tr>\n",
       "      <th>bathrooms</th>\n",
       "      <td>1.0</td>\n",
       "      <td>1.0</td>\n",
       "      <td>1.0</td>\n",
       "      <td>1.0</td>\n",
       "      <td>1.0</td>\n",
       "    </tr>\n",
       "    <tr>\n",
       "      <th>bedrooms</th>\n",
       "      <td>2</td>\n",
       "      <td>2</td>\n",
       "      <td>1</td>\n",
       "      <td>3</td>\n",
       "      <td>2</td>\n",
       "    </tr>\n",
       "    <tr>\n",
       "      <th>building_id</th>\n",
       "      <td>0</td>\n",
       "      <td>3cc586423f9e977a0f991b010242baa6</td>\n",
       "      <td>cd759a988b8f23924b5a2058d5ab2b49</td>\n",
       "      <td>250ae11aef7ca5668ea55763085d3ff8</td>\n",
       "      <td>ec1fe7f38e244003ea14df8d2677aa87</td>\n",
       "    </tr>\n",
       "    <tr>\n",
       "      <th>created</th>\n",
       "      <td>21-06-2016 07:29</td>\n",
       "      <td>22-06-2016 06:44</td>\n",
       "      <td>04-05-2016 02:26</td>\n",
       "      <td>29-06-2016 04:31</td>\n",
       "      <td>30-04-2016 02:23</td>\n",
       "    </tr>\n",
       "    <tr>\n",
       "      <th>description</th>\n",
       "      <td>Makr this stunning place your new home!- 2 bed...</td>\n",
       "      <td>Amazing location!Hardwood floors marble bath g...</td>\n",
       "      <td>DON'T MISS OUT !!! ONE IN A KIND GORGEOUS, HUG...</td>\n",
       "      <td>Not the prettiest, but large, bright and cheap...</td>\n",
       "      <td>BRIGHT &amp; SUNNNY 2BR/1BA IN PRIME SUNNYSIDE LOC...</td>\n",
       "    </tr>\n",
       "    <tr>\n",
       "      <th>display_address</th>\n",
       "      <td>New Lots</td>\n",
       "      <td>Bleecker Street</td>\n",
       "      <td>E 56 St.</td>\n",
       "      <td>E 69 Street</td>\n",
       "      <td>46th Street</td>\n",
       "    </tr>\n",
       "    <tr>\n",
       "      <th>features</th>\n",
       "      <td>['Pre-War', 'Hardwood Floors']</td>\n",
       "      <td>['Elevator', 'Laundry in Building', 'Dishwashe...</td>\n",
       "      <td>['Doorman', 'Elevator', 'Laundry in Building',...</td>\n",
       "      <td>[]</td>\n",
       "      <td>['Dogs Allowed', 'Cats Allowed']</td>\n",
       "    </tr>\n",
       "    <tr>\n",
       "      <th>latitude</th>\n",
       "      <td>40.6678</td>\n",
       "      <td>40.7285</td>\n",
       "      <td>40.7575</td>\n",
       "      <td>40.7657</td>\n",
       "      <td>40.7379</td>\n",
       "    </tr>\n",
       "    <tr>\n",
       "      <th>longitude</th>\n",
       "      <td>-73.8788</td>\n",
       "      <td>-74.0</td>\n",
       "      <td>-73.9626</td>\n",
       "      <td>-73.9572</td>\n",
       "      <td>-73.9196</td>\n",
       "    </tr>\n",
       "    <tr>\n",
       "      <th>manager_id</th>\n",
       "      <td>17dd8baf35198562ff9524b486f1754a</td>\n",
       "      <td>1fb46c4a72bcf764ac35fc23f394760d</td>\n",
       "      <td>f52612ad89c61a21e84172f0af0d4436</td>\n",
       "      <td>ac888923cda3b9e4f0311267be25de9c</td>\n",
       "      <td>f2a70ad9a85be944fbe2ca18e9b323cd</td>\n",
       "    </tr>\n",
       "    <tr>\n",
       "      <th>photos</th>\n",
       "      <td>['https://photos.renthop.com/2/7194943_5fafcb8...</td>\n",
       "      <td>['https://photos.renthop.com/2/7201657_9fe4dcc...</td>\n",
       "      <td>['https://photos.renthop.com/2/6962322_dc4fbd1...</td>\n",
       "      <td>['https://photos.renthop.com/2/7231045_6bdf593...</td>\n",
       "      <td>['https://photos.renthop.com/2/6945125_02ed49c...</td>\n",
       "    </tr>\n",
       "    <tr>\n",
       "      <th>price</th>\n",
       "      <td>1475</td>\n",
       "      <td>3800</td>\n",
       "      <td>2850</td>\n",
       "      <td>3600</td>\n",
       "      <td>1995</td>\n",
       "    </tr>\n",
       "    <tr>\n",
       "      <th>street_address</th>\n",
       "      <td>864 New Lots</td>\n",
       "      <td>160 Bleecker Street</td>\n",
       "      <td>405 E 56 St.</td>\n",
       "      <td>402 E 69 Street</td>\n",
       "      <td>48-45 46th Street</td>\n",
       "    </tr>\n",
       "    <tr>\n",
       "      <th>interest_level</th>\n",
       "      <td>3</td>\n",
       "      <td>3</td>\n",
       "      <td>1</td>\n",
       "      <td>1</td>\n",
       "      <td>3</td>\n",
       "    </tr>\n",
       "    <tr>\n",
       "      <th>num_desc_words</th>\n",
       "      <td>41</td>\n",
       "      <td>46</td>\n",
       "      <td>119</td>\n",
       "      <td>61</td>\n",
       "      <td>157</td>\n",
       "    </tr>\n",
       "  </tbody>\n",
       "</table>\n",
       "</div>"
      ],
      "text/plain": [
       "                                                                 0  \\\n",
       "bathrooms                                                      1.0   \n",
       "bedrooms                                                         2   \n",
       "building_id                                                      0   \n",
       "created                                           21-06-2016 07:29   \n",
       "description      Makr this stunning place your new home!- 2 bed...   \n",
       "display_address                                           New Lots   \n",
       "features                            ['Pre-War', 'Hardwood Floors']   \n",
       "latitude                                                   40.6678   \n",
       "longitude                                                 -73.8788   \n",
       "manager_id                        17dd8baf35198562ff9524b486f1754a   \n",
       "photos           ['https://photos.renthop.com/2/7194943_5fafcb8...   \n",
       "price                                                         1475   \n",
       "street_address                                        864 New Lots   \n",
       "interest_level                                                   3   \n",
       "num_desc_words                                                  41   \n",
       "\n",
       "                                                                 1  \\\n",
       "bathrooms                                                      1.0   \n",
       "bedrooms                                                         2   \n",
       "building_id                       3cc586423f9e977a0f991b010242baa6   \n",
       "created                                           22-06-2016 06:44   \n",
       "description      Amazing location!Hardwood floors marble bath g...   \n",
       "display_address                                    Bleecker Street   \n",
       "features         ['Elevator', 'Laundry in Building', 'Dishwashe...   \n",
       "latitude                                                   40.7285   \n",
       "longitude                                                    -74.0   \n",
       "manager_id                        1fb46c4a72bcf764ac35fc23f394760d   \n",
       "photos           ['https://photos.renthop.com/2/7201657_9fe4dcc...   \n",
       "price                                                         3800   \n",
       "street_address                                 160 Bleecker Street   \n",
       "interest_level                                                   3   \n",
       "num_desc_words                                                  46   \n",
       "\n",
       "                                                                 2  \\\n",
       "bathrooms                                                      1.0   \n",
       "bedrooms                                                         1   \n",
       "building_id                       cd759a988b8f23924b5a2058d5ab2b49   \n",
       "created                                           04-05-2016 02:26   \n",
       "description      DON'T MISS OUT !!! ONE IN A KIND GORGEOUS, HUG...   \n",
       "display_address                                           E 56 St.   \n",
       "features         ['Doorman', 'Elevator', 'Laundry in Building',...   \n",
       "latitude                                                   40.7575   \n",
       "longitude                                                 -73.9626   \n",
       "manager_id                        f52612ad89c61a21e84172f0af0d4436   \n",
       "photos           ['https://photos.renthop.com/2/6962322_dc4fbd1...   \n",
       "price                                                         2850   \n",
       "street_address                                        405 E 56 St.   \n",
       "interest_level                                                   1   \n",
       "num_desc_words                                                 119   \n",
       "\n",
       "                                                                 3  \\\n",
       "bathrooms                                                      1.0   \n",
       "bedrooms                                                         3   \n",
       "building_id                       250ae11aef7ca5668ea55763085d3ff8   \n",
       "created                                           29-06-2016 04:31   \n",
       "description      Not the prettiest, but large, bright and cheap...   \n",
       "display_address                                        E 69 Street   \n",
       "features                                                        []   \n",
       "latitude                                                   40.7657   \n",
       "longitude                                                 -73.9572   \n",
       "manager_id                        ac888923cda3b9e4f0311267be25de9c   \n",
       "photos           ['https://photos.renthop.com/2/7231045_6bdf593...   \n",
       "price                                                         3600   \n",
       "street_address                                     402 E 69 Street   \n",
       "interest_level                                                   1   \n",
       "num_desc_words                                                  61   \n",
       "\n",
       "                                                                 4  \n",
       "bathrooms                                                      1.0  \n",
       "bedrooms                                                         2  \n",
       "building_id                       ec1fe7f38e244003ea14df8d2677aa87  \n",
       "created                                           30-04-2016 02:23  \n",
       "description      BRIGHT & SUNNNY 2BR/1BA IN PRIME SUNNYSIDE LOC...  \n",
       "display_address                                        46th Street  \n",
       "features                          ['Dogs Allowed', 'Cats Allowed']  \n",
       "latitude                                                   40.7379  \n",
       "longitude                                                 -73.9196  \n",
       "manager_id                        f2a70ad9a85be944fbe2ca18e9b323cd  \n",
       "photos           ['https://photos.renthop.com/2/6945125_02ed49c...  \n",
       "price                                                         1995  \n",
       "street_address                                   48-45 46th Street  \n",
       "interest_level                                                   3  \n",
       "num_desc_words                                                 157  "
      ]
     },
     "execution_count": 3,
     "metadata": {},
     "output_type": "execute_result"
    }
   ],
   "source": [
    "df[\"interest_level\"] = df[\"interest_level\"].map({\"low\":1,\"medium\":2,\"high\":3})\n",
    "df.head().T"
   ]
  },
  {
   "cell_type": "code",
   "execution_count": 4,
   "metadata": {},
   "outputs": [
    {
     "name": "stdout",
     "output_type": "stream",
     "text": [
      "<class 'pandas.core.frame.DataFrame'>\n",
      "RangeIndex: 20000 entries, 0 to 19999\n",
      "Data columns (total 15 columns):\n",
      " #   Column           Non-Null Count  Dtype  \n",
      "---  ------           --------------  -----  \n",
      " 0   bathrooms        20000 non-null  float64\n",
      " 1   bedrooms         20000 non-null  int64  \n",
      " 2   building_id      20000 non-null  object \n",
      " 3   created          20000 non-null  object \n",
      " 4   description      19367 non-null  object \n",
      " 5   display_address  19951 non-null  object \n",
      " 6   features         20000 non-null  object \n",
      " 7   latitude         20000 non-null  float64\n",
      " 8   longitude        20000 non-null  float64\n",
      " 9   manager_id       20000 non-null  object \n",
      " 10  photos           20000 non-null  object \n",
      " 11  price            20000 non-null  int64  \n",
      " 12  street_address   19997 non-null  object \n",
      " 13  interest_level   20000 non-null  int64  \n",
      " 14  num_desc_words   20000 non-null  int64  \n",
      "dtypes: float64(3), int64(4), object(8)\n",
      "memory usage: 2.3+ MB\n"
     ]
    }
   ],
   "source": [
    "df.info()"
   ]
  },
  {
   "cell_type": "markdown",
   "metadata": {},
   "source": [
    "#### 2. creating the model"
   ]
  },
  {
   "cell_type": "code",
   "execution_count": 5,
   "metadata": {},
   "outputs": [
    {
     "data": {
      "text/html": [
       "<div>\n",
       "<style scoped>\n",
       "    .dataframe tbody tr th:only-of-type {\n",
       "        vertical-align: middle;\n",
       "    }\n",
       "\n",
       "    .dataframe tbody tr th {\n",
       "        vertical-align: top;\n",
       "    }\n",
       "\n",
       "    .dataframe thead th {\n",
       "        text-align: right;\n",
       "    }\n",
       "</style>\n",
       "<table border=\"1\" class=\"dataframe\">\n",
       "  <thead>\n",
       "    <tr style=\"text-align: right;\">\n",
       "      <th></th>\n",
       "      <th>bathrooms</th>\n",
       "      <th>bedrooms</th>\n",
       "      <th>longitude</th>\n",
       "      <th>latitude</th>\n",
       "      <th>interest_level</th>\n",
       "      <th>num_desc_words</th>\n",
       "      <th>price</th>\n",
       "    </tr>\n",
       "  </thead>\n",
       "  <tbody>\n",
       "    <tr>\n",
       "      <th>0</th>\n",
       "      <td>1.0</td>\n",
       "      <td>2</td>\n",
       "      <td>-73.8788</td>\n",
       "      <td>40.6678</td>\n",
       "      <td>3</td>\n",
       "      <td>41</td>\n",
       "      <td>1475</td>\n",
       "    </tr>\n",
       "    <tr>\n",
       "      <th>1</th>\n",
       "      <td>1.0</td>\n",
       "      <td>2</td>\n",
       "      <td>-74.0000</td>\n",
       "      <td>40.7285</td>\n",
       "      <td>3</td>\n",
       "      <td>46</td>\n",
       "      <td>3800</td>\n",
       "    </tr>\n",
       "  </tbody>\n",
       "</table>\n",
       "</div>"
      ],
      "text/plain": [
       "   bathrooms  bedrooms  longitude  latitude  interest_level  num_desc_words  \\\n",
       "0        1.0         2   -73.8788   40.6678               3              41   \n",
       "1        1.0         2   -74.0000   40.7285               3              46   \n",
       "\n",
       "   price  \n",
       "0   1475  \n",
       "1   3800  "
      ]
     },
     "execution_count": 5,
     "metadata": {},
     "output_type": "execute_result"
    }
   ],
   "source": [
    "#Selecting only numeric coloumns from the dataset.\n",
    "df_num = df[['bathrooms', 'bedrooms', 'longitude','latitude','interest_level','num_desc_words', 'price']]\n",
    "df_num.head(2)"
   ]
  },
  {
   "cell_type": "code",
   "execution_count": 6,
   "metadata": {},
   "outputs": [
    {
     "name": "stdout",
     "output_type": "stream",
     "text": [
      "bathrooms         0\n",
      "bedrooms          0\n",
      "longitude         0\n",
      "latitude          0\n",
      "interest_level    0\n",
      "num_desc_words    0\n",
      "price             0\n",
      "dtype: int64\n"
     ]
    }
   ],
   "source": [
    "#checking the null values\n",
    "print(df_num.isnull().sum()) \n",
    "#There are no null values"
   ]
  },
  {
   "cell_type": "code",
   "execution_count": 7,
   "metadata": {},
   "outputs": [],
   "source": [
    "X= df_num.drop('price', axis=1)\n",
    "y= df_num['price']\n"
   ]
  },
  {
   "cell_type": "code",
   "execution_count": 8,
   "metadata": {},
   "outputs": [],
   "source": [
    "#splitting up the data,where 20% of data goes into test set, 80% into training set\n",
    "X_train, X_val, y_train, y_val = train_test_split(X,y, test_size=0.2) "
   ]
  },
  {
   "cell_type": "code",
   "execution_count": 9,
   "metadata": {},
   "outputs": [
    {
     "name": "stdout",
     "output_type": "stream",
     "text": [
      "R2 value for training:0.9331\n",
      "R2 value for validation:0.0165\n"
     ]
    }
   ],
   "source": [
    "rf = RandomForestRegressor(n_estimators=100, n_jobs = 1) \n",
    "rf.fit(X_train,y_train)\n",
    "r2_train= rf.score(X_train, y_train).round(4)\n",
    "r2_val = rf.score(X_val,y_val).round(4)\n",
    "\n",
    "print( f\"R2 value for training:{r2_train:.4f}\")\n",
    "print( f\"R2 value for validation:{r2_val:.4f}\")\n"
   ]
  },
  {
   "cell_type": "code",
   "execution_count": 10,
   "metadata": {},
   "outputs": [
    {
     "name": "stdout",
     "output_type": "stream",
     "text": [
      "OOB score is 0.5687\n"
     ]
    }
   ],
   "source": [
    "#Evaluation of the model\n",
    "rf = RandomForestRegressor(n_estimators=100, n_jobs = 1,oob_score=True) \n",
    "rf.fit(X_train,y_train)\n",
    "\n",
    "noisy_oob_r2 = rf.oob_score_\n",
    "print(f\"OOB score is {noisy_oob_r2:.4f}\")"
   ]
  },
  {
   "cell_type": "markdown",
   "metadata": {},
   "source": [
    "#### 3. Verifying Mean Absolute Error"
   ]
  },
  {
   "cell_type": "code",
   "execution_count": 11,
   "metadata": {},
   "outputs": [],
   "source": [
    "train_r2 = []\n",
    "train_mae = []\n",
    "val_r2 =[]\n",
    "val_mae=[]\n",
    "oob_scores =[]\n",
    "\n",
    "for i in range(10):\n",
    "    X_train, X_val, y_train, y_val = train_test_split(X,y, test_size=0.2)\n",
    "    rf.fit(X_train,y_train)\n",
    "    train_pred = rf.predict(X_train)\n",
    "    val_pred = rf.predict(X_val)\n",
    "    train_r2.append(round(r2_score(y_train, train_pred),2))\n",
    "    train_mae.append(round(mean_absolute_error(y_train, train_pred),2))\n",
    "    val_r2.append(round(r2_score(y_val, val_pred),2))\n",
    "    val_mae.append(round(mean_absolute_error(y_val, val_pred),2))\n",
    "    oob_scores.append(rf.oob_score_)"
   ]
  },
  {
   "cell_type": "code",
   "execution_count": 12,
   "metadata": {},
   "outputs": [
    {
     "name": "stdout",
     "output_type": "stream",
     "text": [
      "The scores of Training R-square are: \n",
      " [0.85, 0.8, 0.94, 0.72, 0.94, 0.94, 0.8, 0.76, 0.83, 0.76]\n",
      " \n",
      "Validation R-square scores are: \n",
      " [-10.02, 0.3, 0.01, 0.51, 0.01, 0.01, 0.38, -2.64, -3.92, -20.3]\n",
      " \n",
      "The Training MAE scores are: \n",
      " [254.28, 246.26, 193.49, 250.58, 194.19, 193.14, 253.44, 257.41, 252.82, 258.13]\n",
      " \n",
      "The Validation MAE scores are: \n",
      " [674.56, 560.52, 811.04, 590.41, 760.95, 780.64, 560.89, 616.27, 572.19, 777.14]\n",
      " \n",
      "The Out-of-bag scores are:  \n",
      " [-0.7056608703753291, -0.37199154247639443, 0.5398361725018448, -0.2816550296107927, 0.5772575188996807, 0.5660923191661924, -0.5160002030598945, -0.16534539924443803, -0.28678413429926564, -0.5801425563010374]\n"
     ]
    }
   ],
   "source": [
    "print(\"The scores of Training R-square are: \\n\", train_r2)\n",
    "print(\" \")\n",
    "print(\"Validation R-square scores are: \\n\", val_r2)\n",
    "print(\" \")\n",
    "print(\"The Training MAE scores are: \\n\", train_mae)\n",
    "print(\" \")\n",
    "print(\"The Validation MAE scores are: \\n\", val_mae)\n",
    "print(\" \")\n",
    "print(\"The Out-of-bag scores are:  \\n\", oob_scores)"
   ]
  },
  {
   "cell_type": "code",
   "execution_count": 13,
   "metadata": {},
   "outputs": [
    {
     "name": "stdout",
     "output_type": "stream",
     "text": [
      "Mean train r2:  0.834\n",
      "Mean validation r2:  -3.566\n",
      "Mean train MAE:  235.374\n",
      "Mean validation MAE:  670.461\n",
      "Mean oob score:  -0.122\n"
     ]
    }
   ],
   "source": [
    "#Finding out the mean of r2, MAE of both training and validation data and oob_score\n",
    "print(\"Mean train r2: \", np.mean(train_r2).round(3)) \n",
    "print(\"Mean validation r2: \", np.mean(val_r2).round(3))\n",
    "print(\"Mean train MAE: \", np.mean(train_mae).round(3))\n",
    "print(\"Mean validation MAE: \", np.mean(val_mae).round(3))\n",
    "print(\"Mean oob score: \", np.mean(oob_scores).round(3))"
   ]
  },
  {
   "cell_type": "markdown",
   "metadata": {},
   "source": [
    "### <u> Explanation for part 1</u>\n",
    "\n",
    "1. Importing the necessary libraries used in this Lab.\n",
    "\n",
    "2. Understanding the datasets :<br>\n",
    "    -Got familiar with the datatypes of each column.<br>\n",
    "    -Checked for the null values.\n",
    "\n",
    "3. Transformed categorical ordinal column \"Interest_level\" to numeric ordinal value to include in the model training.\n",
    "\n",
    "4. Selected numeric columns for the final dataset and proceeded with splitting the dataset into Train and Validation set.\n",
    "\n",
    "5. Fit the data in the RandomForestRegressor and evaluated the R2 value for both the set.\n",
    "\n",
    "6. There is a significant difference between the R2 values of both the Training and Validation set.\n",
    "\n",
    "7. The oob score was calculated for the same set which came around to be 0.5687.\n",
    "\n",
    "8. Trained the datsaset 10 times to fit into the regressor model and calculated the MAE values for both the sets.\n",
    "\n",
    "9. The mean values for the calculations is found out having larger difference for R2 values.\n",
    "\n",
    "10. The oob score was found out to be negative which is very worse for our model. It shows that there might be a possibility of noise in the data.\n",
    "\n",
    "\n",
    "\n"
   ]
  },
  {
   "cell_type": "markdown",
   "metadata": {},
   "source": [
    "### Part 2 - Denoise the data\n"
   ]
  },
  {
   "cell_type": "code",
   "execution_count": 28,
   "metadata": {},
   "outputs": [
    {
     "data": {
      "text/html": [
       "<div>\n",
       "<style scoped>\n",
       "    .dataframe tbody tr th:only-of-type {\n",
       "        vertical-align: middle;\n",
       "    }\n",
       "\n",
       "    .dataframe tbody tr th {\n",
       "        vertical-align: top;\n",
       "    }\n",
       "\n",
       "    .dataframe thead th {\n",
       "        text-align: right;\n",
       "    }\n",
       "</style>\n",
       "<table border=\"1\" class=\"dataframe\">\n",
       "  <thead>\n",
       "    <tr style=\"text-align: right;\">\n",
       "      <th></th>\n",
       "      <th>bathrooms</th>\n",
       "      <th>bedrooms</th>\n",
       "      <th>longitude</th>\n",
       "      <th>latitude</th>\n",
       "      <th>interest_level</th>\n",
       "      <th>num_desc_words</th>\n",
       "      <th>price</th>\n",
       "    </tr>\n",
       "  </thead>\n",
       "  <tbody>\n",
       "    <tr>\n",
       "      <th>count</th>\n",
       "      <td>20000.000000</td>\n",
       "      <td>20000.000000</td>\n",
       "      <td>20000.000000</td>\n",
       "      <td>20000.000000</td>\n",
       "      <td>20000.000000</td>\n",
       "      <td>20000.000000</td>\n",
       "      <td>2.000000e+04</td>\n",
       "    </tr>\n",
       "    <tr>\n",
       "      <th>mean</th>\n",
       "      <td>1.214050</td>\n",
       "      <td>1.545250</td>\n",
       "      <td>-73.826650</td>\n",
       "      <td>40.703469</td>\n",
       "      <td>1.386750</td>\n",
       "      <td>-962.539300</td>\n",
       "      <td>3.733582e+03</td>\n",
       "    </tr>\n",
       "    <tr>\n",
       "      <th>std</th>\n",
       "      <td>0.500695</td>\n",
       "      <td>1.114188</td>\n",
       "      <td>6.681871</td>\n",
       "      <td>1.802293</td>\n",
       "      <td>0.628963</td>\n",
       "      <td>32390.385788</td>\n",
       "      <td>8.014783e+03</td>\n",
       "    </tr>\n",
       "    <tr>\n",
       "      <th>min</th>\n",
       "      <td>0.000000</td>\n",
       "      <td>0.000000</td>\n",
       "      <td>-124.015100</td>\n",
       "      <td>-18.979000</td>\n",
       "      <td>1.000000</td>\n",
       "      <td>-1000000.000000</td>\n",
       "      <td>-1.800000e+04</td>\n",
       "    </tr>\n",
       "    <tr>\n",
       "      <th>25%</th>\n",
       "      <td>1.000000</td>\n",
       "      <td>1.000000</td>\n",
       "      <td>-73.991600</td>\n",
       "      <td>40.728300</td>\n",
       "      <td>1.000000</td>\n",
       "      <td>48.000000</td>\n",
       "      <td>2.500000e+03</td>\n",
       "    </tr>\n",
       "    <tr>\n",
       "      <th>50%</th>\n",
       "      <td>1.000000</td>\n",
       "      <td>1.000000</td>\n",
       "      <td>-73.977900</td>\n",
       "      <td>40.751700</td>\n",
       "      <td>1.000000</td>\n",
       "      <td>81.000000</td>\n",
       "      <td>3.150000e+03</td>\n",
       "    </tr>\n",
       "    <tr>\n",
       "      <th>75%</th>\n",
       "      <td>1.000000</td>\n",
       "      <td>2.000000</td>\n",
       "      <td>-73.954700</td>\n",
       "      <td>40.774500</td>\n",
       "      <td>2.000000</td>\n",
       "      <td>118.000000</td>\n",
       "      <td>4.134000e+03</td>\n",
       "    </tr>\n",
       "    <tr>\n",
       "      <th>max</th>\n",
       "      <td>6.000000</td>\n",
       "      <td>7.000000</td>\n",
       "      <td>158.395000</td>\n",
       "      <td>49.343000</td>\n",
       "      <td>3.000000</td>\n",
       "      <td>518.000000</td>\n",
       "      <td>1.070000e+06</td>\n",
       "    </tr>\n",
       "  </tbody>\n",
       "</table>\n",
       "</div>"
      ],
      "text/plain": [
       "          bathrooms      bedrooms     longitude      latitude  interest_level  \\\n",
       "count  20000.000000  20000.000000  20000.000000  20000.000000    20000.000000   \n",
       "mean       1.214050      1.545250    -73.826650     40.703469        1.386750   \n",
       "std        0.500695      1.114188      6.681871      1.802293        0.628963   \n",
       "min        0.000000      0.000000   -124.015100    -18.979000        1.000000   \n",
       "25%        1.000000      1.000000    -73.991600     40.728300        1.000000   \n",
       "50%        1.000000      1.000000    -73.977900     40.751700        1.000000   \n",
       "75%        1.000000      2.000000    -73.954700     40.774500        2.000000   \n",
       "max        6.000000      7.000000    158.395000     49.343000        3.000000   \n",
       "\n",
       "       num_desc_words         price  \n",
       "count    20000.000000  2.000000e+04  \n",
       "mean      -962.539300  3.733582e+03  \n",
       "std      32390.385788  8.014783e+03  \n",
       "min   -1000000.000000 -1.800000e+04  \n",
       "25%         48.000000  2.500000e+03  \n",
       "50%         81.000000  3.150000e+03  \n",
       "75%        118.000000  4.134000e+03  \n",
       "max        518.000000  1.070000e+06  "
      ]
     },
     "execution_count": 28,
     "metadata": {},
     "output_type": "execute_result"
    }
   ],
   "source": [
    "df_num.describe()"
   ]
  },
  {
   "cell_type": "markdown",
   "metadata": {},
   "source": [
    "#### Cleaning the data for denoising after studying the description"
   ]
  },
  {
   "cell_type": "code",
   "execution_count": 15,
   "metadata": {},
   "outputs": [],
   "source": [
    "#cleaning up the data of bedrooms and bathrooms\n",
    "df_clean =df_num[(df_num['bedrooms'] <= 5) | (df_num['bathrooms'] <= 1)&(df_num['bathrooms']>=4.5)]"
   ]
  },
  {
   "cell_type": "code",
   "execution_count": 16,
   "metadata": {},
   "outputs": [],
   "source": [
    " #cleaning up the location\n",
    "df_clean =df_clean[(df_clean['longitude']!= 0) | (df_clean['latitude']!= 0)]\n",
    "df_clean = df_clean[(df_clean['latitude']>40.55) &\n",
    "                        (df_clean['latitude']<40.84) &\n",
    "                        (df_clean['longitude']>-74.1) &\n",
    "                        (df_clean['longitude']<-73.67)]"
   ]
  },
  {
   "cell_type": "code",
   "execution_count": 17,
   "metadata": {},
   "outputs": [],
   "source": [
    " #cleaning up the price\n",
    "df_clean = df_clean[(df_clean['price'] > 1000) & (df_clean['price'] < 11000)]"
   ]
  },
  {
   "cell_type": "code",
   "execution_count": 18,
   "metadata": {},
   "outputs": [],
   "source": [
    "#cleaning on Num_desc_words\n",
    "df_clean =df_clean[(df_clean['num_desc_words'] <= 15)]"
   ]
  },
  {
   "cell_type": "code",
   "execution_count": 21,
   "metadata": {},
   "outputs": [
    {
     "name": "stdout",
     "output_type": "stream",
     "text": [
      "The impact on number of samples:0.9033\n",
      "Number of cancelled rows:18066\n"
     ]
    }
   ],
   "source": [
    "#checking the impact on number of samples after denoising\n",
    "\n",
    "print(f\"The impact on number of samples:{(df_num.shape[0] - df_clean.shape[0]) / df_num.shape[0]}\")\n",
    "print(f\"Number of cancelled rows:{(df_num.shape[0] - df_clean.shape[0])}\")\n"
   ]
  },
  {
   "cell_type": "markdown",
   "metadata": {},
   "source": [
    "**After performing the denoising on the dataset, 18066 out of 20000 were removed as to filter the dataset for the final model thereby decreasing the inconsistencies present in the dataset.**"
   ]
  },
  {
   "cell_type": "markdown",
   "metadata": {},
   "source": [
    "### Part 3 - Create and evaluate a final model\n"
   ]
  },
  {
   "cell_type": "code",
   "execution_count": 22,
   "metadata": {},
   "outputs": [],
   "source": [
    "x_clean = df_clean.drop('price', axis=1)\n",
    "y_clean = df_clean['price']"
   ]
  },
  {
   "cell_type": "code",
   "execution_count": 23,
   "metadata": {},
   "outputs": [
    {
     "name": "stdout",
     "output_type": "stream",
     "text": [
      "R2 value for clean training data  :0.9580\n",
      "R2 value for clean validation data:0.7281\n"
     ]
    }
   ],
   "source": [
    "x_clean_train, x_clean_val, y_clean_train, y_clean_val = train_test_split(x_clean, y_clean, test_size=0.2)  \n",
    "rf_clean = RandomForestRegressor(n_estimators=100, n_jobs=-1, oob_score=True) \n",
    "rf_clean.fit(x_clean_train, y_clean_train) \n",
    "r2_clean_train= rf_clean.score(x_clean_train, y_clean_train).round(4)\n",
    "r2_clean_val = rf_clean.score(x_clean_val, y_clean_val).round(4)\n",
    "print( f\"R2 value for clean training data  :{r2_clean_train:.4f}\")\n",
    "print( f\"R2 value for clean validation data:{r2_clean_val:.4f}\")"
   ]
  },
  {
   "cell_type": "code",
   "execution_count": 24,
   "metadata": {},
   "outputs": [
    {
     "data": {
      "text/plain": [
       "0.7323"
      ]
     },
     "execution_count": 24,
     "metadata": {},
     "output_type": "execute_result"
    }
   ],
   "source": [
    "rf_clean.oob_score_.round(4)"
   ]
  },
  {
   "cell_type": "code",
   "execution_count": 25,
   "metadata": {},
   "outputs": [],
   "source": [
    "train_r2 = []\n",
    "train_mae = []\n",
    "val_r2 = []\n",
    "val_mae = []\n",
    "oob_scores = []\n",
    "\n",
    "for i in range(10):\n",
    "    x_clean_train, x_clean_val, y_clean_train, y_clean_val = train_test_split(x_clean, y_clean, test_size=0.2)\n",
    "    rf_clean = RandomForestRegressor(n_estimators=100, n_jobs=-1, oob_score=True) \n",
    "    rf_clean.fit(x_clean_train, y_clean_train)\n",
    "    train_preds = rf_clean.predict(x_clean_train)\n",
    "    val_preds = rf_clean.predict(x_clean_val)\n",
    "    train_r2.append(round(r2_score(y_clean_train, train_preds), 4))\n",
    "    val_r2.append(round(r2_score(y_clean_val, val_preds), 4))\n",
    "    train_mae.append(round(mean_absolute_error(y_clean_train, train_preds), 4))\n",
    "    val_mae.append(round(mean_absolute_error(y_clean_val, val_preds), 2))\n",
    "    oob_scores.append(round(rf_clean.oob_score_,4))\n"
   ]
  },
  {
   "cell_type": "code",
   "execution_count": 26,
   "metadata": {},
   "outputs": [
    {
     "name": "stdout",
     "output_type": "stream",
     "text": [
      "The Scores after removing the Noise are: \n",
      "\n",
      "The Training R-square scores: \n",
      " [0.9586, 0.9581, 0.9576, 0.959, 0.958, 0.9585, 0.961, 0.9581, 0.9619, 0.958]\n",
      "\n",
      "The Validation R-Square scores: \n",
      " [0.7238, 0.7572, 0.7598, 0.6871, 0.7562, 0.7314, 0.7314, 0.7787, 0.6793, 0.7601]\n",
      "\n",
      "The Training  MAE scores: \n",
      " [197.4915, 198.3428, 199.0141, 202.3786, 201.4943, 195.9913, 193.2157, 195.6356, 192.3729, 195.4508]\n",
      "\n",
      "The Validation MAE scores: \n",
      " [477.02, 475.87, 480.13, 467.53, 463.67, 486.53, 490.46, 478.08, 530.61, 486.03]\n",
      "\n",
      "The Out-of-bag scores are:  \n",
      " [0.7231, 0.7192, 0.7199, 0.7234, 0.7257, 0.7338, 0.7308, 0.7241, 0.7384, 0.733]\n"
     ]
    }
   ],
   "source": [
    "print(\"The Scores after removing the Noise are: \\n\")\n",
    "print(\"The Training R-square scores: \\n\", train_r2)\n",
    "print(\"\")\n",
    "print(\"The Validation R-Square scores: \\n\", val_r2)\n",
    "print(\"\")\n",
    "print(\"The Training  MAE scores: \\n\", train_mae)\n",
    "print(\"\")\n",
    "print(\"The Validation MAE scores: \\n\", val_mae)\n",
    "print(\"\")\n",
    "print(\"The Out-of-bag scores are:  \\n\", oob_scores )"
   ]
  },
  {
   "cell_type": "code",
   "execution_count": 27,
   "metadata": {},
   "outputs": [
    {
     "name": "stdout",
     "output_type": "stream",
     "text": [
      "Mean train r2:  0.9589\n",
      "Mean validation r2:  0.7365\n",
      "Mean train MAE:  197.14\n",
      "Mean validation MAE:  483.59\n",
      "Mean oob score:  0.7271\n"
     ]
    }
   ],
   "source": [
    "# mean on r2, MAE,oob_score after denoising the data\n",
    "print(\"Mean train r2: \", round(np.mean(train_r2), 4))\n",
    "print(\"Mean validation r2: \", round(np.mean(val_r2), 4))\n",
    "print(\"Mean train MAE: \", round(np.mean(train_mae), 2))\n",
    "print(\"Mean validation MAE: \", round(np.mean(val_mae), 2))\n",
    "print(\"Mean oob score: \", round(np.mean(oob_scores),4))"
   ]
  },
  {
   "cell_type": "markdown",
   "metadata": {},
   "source": [
    "### <u> Explanation for part 3</u>\n",
    "\n",
    "1. Further analysis and removing noise from the data a clean dataset was created .\n",
    "2. The model was trained after splitting the data in the ratio 80:20.\n",
    "3. Same algorithm of code was followed to fit in and calculate the R2 values of both the sets.\n",
    "4. We can see the value of R2 obtained in part 1 increases to about 0.7281.\n",
    "5. The MAE values for both training and validation set were calculated and the difference obtained part 1 was reduced by almost approximately 250.\n",
    "6. The oob score observed for the final model was 0.7271 compared to negative oob score of -0.122 .\n",
    "7. Overall, the significant increase in oob score value makes it apparent that model is close to better after denoising the dataset.\n",
    "\n"
   ]
  },
  {
   "cell_type": "markdown",
   "metadata": {},
   "source": [
    "### Part 4 - Document the problems \n",
    "\n",
    "In this part, please use the table below to document your understanding of all the data issues you discovered. Note that **no code** should be included, as that should be covered in **Part 2**. Also, note that even if one line of code fixed a few problems, you should list each problem separately in the table below, so be sure you have investigated the data properly. For example, if the list `[-6, 5, 0, 50]` represents heights of adults, the -6, 0, and 50 would represent three data issues to be included in the table below, even though one line of code may be able to address all of them. \n",
    "\n",
    "| Data issue discovered | Why is this a problem? | How did you fix it? | Why is this fix appropriate? |\n",
    "| :- | :- | :- | :- | \n",
    "|  Some data points having bedroom > 5 |   For a typical New York apartment very selective residents would have bedroom greater than 5  |We specified range using comparison and logical operators   | It removes the possible outliers i.e residents having greater number of bedrooms thereby generalizing the dataset more.  |\n",
    "|  Bathrooms less than 0 and more than 4.5 | Possibility of apartments having no bathroom is minimal and apartments having more than 4.5 bathroom is considered luxury    | We specified range using comparison and logical operators |The dataset further gets refined and filters apartment that are considered typical for new york city.   |\n",
    "|Latitude and Longitude were found to be 0 |  0 latitude and 0 longitude specifics location that are at the equators. |Excluded data entries having latitude and longitude as 0  | Location is further defined as these values are removed.  |\n",
    "|  Irrelevant Latitude and Longitude  |   Coordinates not representing New York city is not useful in this context |Specified the range of latitude and longitute values representing new york city cooordinates   | The dataset further gets filtered accurately as per the desired location.  |\n",
    "|  Price Variation  |   There were extremities in price ranges : negative values in some and values upto 1 million |After observing the dataset using desc() we were able to specify price ranges.| Variation in prices had massive impact over the mean value of prices.  |\n",
    "|Number of words in the description |  Certain description having 0 to 1 words possibly were apartments having less information and not legitimate  | Range of word count was decided for a typical apartment description   | It removes the possibility of unwanted apartment listing without proper information.  |"
   ]
  }
 ],
 "metadata": {
  "kernelspec": {
   "display_name": "Python 3",
   "language": "python",
   "name": "python3"
  },
  "language_info": {
   "codemirror_mode": {
    "name": "ipython",
    "version": 3
   },
   "file_extension": ".py",
   "mimetype": "text/x-python",
   "name": "python",
   "nbconvert_exporter": "python",
   "pygments_lexer": "ipython3",
   "version": "3.8.5"
  }
 },
 "nbformat": 4,
 "nbformat_minor": 4
}
